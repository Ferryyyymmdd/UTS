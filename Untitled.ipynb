{
 "cells": [
  {
   "cell_type": "code",
   "execution_count": 43,
   "id": "93800ae8",
   "metadata": {},
   "outputs": [
    {
     "name": "stdout",
     "output_type": "stream",
     "text": [
      "            Curiculum Vitae\n",
      "==========================================\n",
      "Nama                 :  Ferry Saptawan\n",
      "Pendidikan Formal    :  SD N6 SATAI c\n",
      "                       SMP N1 SAMBAS\n",
      "                       SMK N1 SAMBAS\n",
      "        \n",
      "Pendidikan Non Formal: Ruang Belajar Bahasa Inggris\n",
      "                       Kursus mengemudi TitoDriver\n",
      "        \n",
      "Organisasi           : komunitas Pecinta Linux\n",
      "                       Pramuka\n",
      "                       Ikatan Pencak Silat Sambas\n",
      "            \n",
      "Prestasi             : Juara 2 Popda Cabor Pencak Silat kelas I Putra\n",
      "                       Juara 1 Kejurda Cabor Pencak silat kelas i putra\n",
      "        \n",
      "==========================================\n"
     ]
    }
   ],
   "source": [
    "nama = \"Ferry Saptawan\"\n",
    "\n",
    "penfor =\"\"\"SD N6 SATAI c\n",
    "                       SMP N1 SAMBAS\n",
    "                       SMK N1 SAMBAS\n",
    "        \"\"\"\n",
    "penonfor =\"\"\"Ruang Belajar Bahasa Inggris\n",
    "                       Kursus mengemudi TitoDriver\n",
    "        \"\"\"\n",
    "organisasi =\"\"\"komunitas Pecinta Linux\n",
    "                       Pramuka\n",
    "                       Ikatan Pencak Silat Sambas\n",
    "            \"\"\" \n",
    "prestasi = \"\"\"Juara 2 Popda Cabor Pencak Silat kelas I Putra\n",
    "                       Juara 1 Kejurda Cabor Pencak silat kelas i putra\n",
    "        \"\"\"\n",
    "print(\"            Curiculum Vitae\")\n",
    "print(\"==========================================\")\n",
    "print(\"Nama                 : \" ,nama)\n",
    "print(\"Pendidikan Formal    : \",penfor)\n",
    "print(\"Pendidikan Non Formal:\",penonfor)\n",
    "print(\"Organisasi           :\",organisasi)\n",
    "print(\"Prestasi             :\",prestasi)\n",
    "print(\"==========================================\")"
   ]
  },
  {
   "cell_type": "code",
   "execution_count": 71,
   "id": "83d17b2f",
   "metadata": {},
   "outputs": [
    {
     "name": "stdout",
     "output_type": "stream",
     "text": [
      "Masukkan Panjang Persegi:12\n",
      "Masukkan Lebar Persegi:13\n",
      "luas =  156\n"
     ]
    }
   ],
   "source": [
    "p=int(input(\"Masukkan Panjang Persegi:\"))\n",
    "l=int(input(\"Masukkan Lebar Persegi:\"))\n",
    "luas = p*l\n",
    "print(\"luas = \",luas)"
   ]
  },
  {
   "cell_type": "code",
   "execution_count": 49,
   "id": "d9c140dc",
   "metadata": {},
   "outputs": [
    {
     "name": "stdout",
     "output_type": "stream",
     "text": [
      "Masukkan Besaran Suhu:33\n",
      "Besaran Suhu Dalam Satuan Reamur:  26.400000000000002\n",
      "Besaran Suhu Dalam Farenheit:  91.4\n"
     ]
    }
   ],
   "source": [
    "cel=float(input(\"Masukkan Besaran Suhu:\"))\n",
    "rea = 4/5*cel\n",
    "far = cel*9/5+32\n",
    "print(\"Besaran Suhu Dalam Satuan Reamur: \",rea)\n",
    "print(\"Besaran Suhu Dalam Farenheit: \",far)\n"
   ]
  },
  {
   "cell_type": "code",
   "execution_count": 70,
   "id": "db14a759",
   "metadata": {
    "scrolled": true
   },
   "outputs": [
    {
     "name": "stdout",
     "output_type": "stream",
     "text": [
      "Masukkan detik : 678678678\n",
      "678678678 Detik =  7855 hari -  1 jam -  51 menit -  18 detik\n"
     ]
    }
   ],
   "source": [
    "detik = int(input(\"Masukkan detik : \"))\n",
    "hari = int(detik / 86400)\n",
    "sisadetik = detik % 86400\n",
    "jam = int(sisadetik / 3600)\n",
    "sisadetik = detik % 3600\n",
    "menit = int(sisadetik / 60)\n",
    "det = int(sisadetik % 60)\n",
    "\n",
    "print(detik,\"Detik = \",hari,\"hari - \",jam,\"jam - \",menit,\"menit - \",det,\"detik\")\n"
   ]
  },
  {
   "cell_type": "code",
   "execution_count": 77,
   "id": "b752c9df",
   "metadata": {},
   "outputs": [
    {
     "name": "stdout",
     "output_type": "stream",
     "text": [
      "masukkan jari-jari = 13\n",
      "Luas Lingkaran =  530.66\n"
     ]
    }
   ],
   "source": [
    " jari = float(input(\"masukkan jari-jari = \"))\n",
    "\n",
    "lingkaran = float(3.14*jari*jari)\n",
    "\n",
    "print(\"Luas Lingkaran = \",lingkaran)"
   ]
  },
  {
   "cell_type": "code",
   "execution_count": null,
   "id": "f3657611",
   "metadata": {},
   "outputs": [],
   "source": []
  }
 ],
 "metadata": {
  "kernelspec": {
   "display_name": "Python 3",
   "language": "python",
   "name": "python3"
  },
  "language_info": {
   "codemirror_mode": {
    "name": "ipython",
    "version": 3
   },
   "file_extension": ".py",
   "mimetype": "text/x-python",
   "name": "python",
   "nbconvert_exporter": "python",
   "pygments_lexer": "ipython3",
   "version": "3.8.8"
  }
 },
 "nbformat": 4,
 "nbformat_minor": 5
}
